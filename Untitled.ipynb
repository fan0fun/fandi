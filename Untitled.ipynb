{
 "cells": [
  {
   "cell_type": "code",
   "execution_count": 1,
   "id": "6c90acda",
   "metadata": {},
   "outputs": [],
   "source": [
    "data = {\"aqua\": 5500, \"wafer\": 2000, \"lolipop\": 1000, \"aice\": 5000, \"coffedrink\": 6000, \"roti\": 12000, \"selaichoco\": 9000}"
   ]
  },
  {
   "cell_type": "code",
   "execution_count": 2,
   "id": "639d7f45",
   "metadata": {},
   "outputs": [],
   "source": [
    "List_Toko = \"aqua: Rp.5500, wafer: Rp.2000, lolipop: Rp.1000, aice: Rp.5000, coffedrink: Rp.6000, roti: Rp.12000, selaichoco: Rp.9000 \""
   ]
  },
  {
   "cell_type": "code",
   "execution_count": 3,
   "id": "ae7b63bb",
   "metadata": {},
   "outputs": [],
   "source": [
    "keranjang = []"
   ]
  },
  {
   "cell_type": "code",
   "execution_count": 4,
   "id": "b4b6424c",
   "metadata": {},
   "outputs": [],
   "source": [
    "total = []"
   ]
  },
  {
   "cell_type": "code",
   "execution_count": 5,
   "id": "f086b7f0",
   "metadata": {},
   "outputs": [],
   "source": [
    "def kasir():\n",
    "    print (List_Toko)\n",
    "    pembeli = input('Halo selamat datang! Masukan nama barang yang ingin dibeli: ').lower()\n",
    "    while pembeli != \"s\":\n",
    "        if pembeli in data:\n",
    "            keranjang.append(pembeli)\n",
    "            pembeli = input(\"Barang berhasil ditambahkan ke keranjang anda! Adakah yang ingin dibeli lagi?\"\n",
    "                            \"(untuk selesai ketik 's')\").lower()\n",
    "        else:\n",
    "            pembeli = input(\"Maaf! kami tidak mempunyai barang itu di toko kami! Adakah yang ingin dibeli lagi?\"\n",
    "                           \"(untuk selesai ketik 's')\").lower()"
   ]
  },
  {
   "cell_type": "code",
   "execution_count": 6,
   "id": "49db902f",
   "metadata": {},
   "outputs": [],
   "source": [
    "def beli():\n",
    "    kasir()\n",
    "    print (\"ini list barang belanja anda !\", keranjang)\n",
    "\n",
    "    jawab = input(\"Apakah anda ingin membeli barang lain? (ketik ya/tidak)\").lower()\n",
    "\n",
    "    if jawab == \"ya\":\n",
    "        kasir()\n",
    "        print (\"ini list barang belanja anda di keranjang\", keranjang)\n",
    "        for barang in keranjang:\n",
    "            total.append(data[barang])\n",
    "        jumlah_bayar = sum(total)\n",
    "    else:\n",
    "        for barang in keranjang:\n",
    "            total.append(data[barang])\n",
    "        jumlah_bayar = sum(total)\n",
    "    \n",
    "    print(\"Total Harga: \", jumlah_bayar)\n",
    "    return jumlah_bayar"
   ]
  },
  {
   "cell_type": "code",
   "execution_count": 7,
   "id": "95b4cc27",
   "metadata": {},
   "outputs": [
    {
     "name": "stdout",
     "output_type": "stream",
     "text": [
      "aqua: Rp.5500, wafer: Rp.2000, lolipop: Rp.1000, aice: Rp.5000, coffedrink: Rp.6000, roti: Rp.12000, selaichoco: Rp.9000 \n",
      "Halo selamat datang! Masukan nama barang yang ingin dibeli: aice\n",
      "Barang berhasil ditambahkan ke keranjang anda! Adakah yang ingin dibeli lagi?(untuk selesai ketik 's')s\n",
      "ini list barang belanja anda ! ['aice']\n",
      "Apakah anda ingin membeli barang lain? (ketik ya/tidak)tidak\n",
      "Total Harga:  5000\n"
     ]
    },
    {
     "data": {
      "text/plain": [
       "5000"
      ]
     },
     "execution_count": 7,
     "metadata": {},
     "output_type": "execute_result"
    }
   ],
   "source": [
    "beli()"
   ]
  },
  {
   "cell_type": "code",
   "execution_count": 8,
   "id": "f7642df3",
   "metadata": {},
   "outputs": [
    {
     "name": "stdout",
     "output_type": "stream",
     "text": [
      "aqua: Rp.5500, wafer: Rp.2000, lolipop: Rp.1000, aice: Rp.5000, coffedrink: Rp.6000, roti: Rp.12000, selaichoco: Rp.9000 \n",
      "Halo selamat datang! Masukan nama barang yang ingin dibeli: coffedrink\n",
      "Barang berhasil ditambahkan ke keranjang anda! Adakah yang ingin dibeli lagi?(untuk selesai ketik 's')s\n",
      "ini list barang belanja anda ! ['aice', 'coffedrink']\n",
      "Apakah anda ingin membeli barang lain? (ketik ya/tidak)tidak\n",
      "Total Harga:  16000\n"
     ]
    },
    {
     "data": {
      "text/plain": [
       "16000"
      ]
     },
     "execution_count": 8,
     "metadata": {},
     "output_type": "execute_result"
    }
   ],
   "source": [
    "beli()"
   ]
  },
  {
   "cell_type": "code",
   "execution_count": null,
   "id": "cb80c6d9",
   "metadata": {},
   "outputs": [],
   "source": []
  }
 ],
 "metadata": {
  "kernelspec": {
   "display_name": "Python 3",
   "language": "python",
   "name": "python3"
  },
  "language_info": {
   "codemirror_mode": {
    "name": "ipython",
    "version": 3
   },
   "file_extension": ".py",
   "mimetype": "text/x-python",
   "name": "python",
   "nbconvert_exporter": "python",
   "pygments_lexer": "ipython3",
   "version": "3.8.8"
  }
 },
 "nbformat": 4,
 "nbformat_minor": 5
}
